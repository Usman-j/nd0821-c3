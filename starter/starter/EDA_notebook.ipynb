{
 "cells": [
  {
   "cell_type": "code",
   "execution_count": 2,
   "metadata": {},
   "outputs": [],
   "source": [
    "import os\n",
    "import pandas as pd\n",
    "from pathlib import Path"
   ]
  },
  {
   "cell_type": "code",
   "execution_count": 24,
   "metadata": {},
   "outputs": [],
   "source": [
    "df_census = pd.read_csv('/home/usman_j/MLOps_project3/nd0821-c3/starter/data/census.csv')"
   ]
  },
  {
   "cell_type": "markdown",
   "metadata": {},
   "source": [
    "Removing sapces from column names and categorical values."
   ]
  },
  {
   "cell_type": "code",
   "execution_count": 25,
   "metadata": {},
   "outputs": [],
   "source": [
    "df_census.columns = df_census.columns.str.replace(' ', '')\n",
    "cat_features = [\n",
    "    \"workclass\",\n",
    "    \"education\",\n",
    "    \"marital-status\",\n",
    "    \"occupation\",\n",
    "    \"relationship\",\n",
    "    \"race\",\n",
    "    \"sex\",\n",
    "    \"native-country\",\n",
    "]\n",
    "for col in cat_features:\n",
    "    df_census[col] = df_census[col].str.strip()"
   ]
  },
  {
   "cell_type": "markdown",
   "metadata": {},
   "source": [
    "Dropping duplicates and na in raw dataset. Checking and dropping missing values (?)."
   ]
  },
  {
   "cell_type": "code",
   "execution_count": 26,
   "metadata": {},
   "outputs": [
    {
     "name": "stdout",
     "output_type": "stream",
     "text": [
      "Raw size:  32561\n",
      "Size after dropping na and duplicates:  32537\n",
      "Column:  age missing value count:  0\n",
      "Column:  workclass missing value count:  1836\n",
      "Column:  fnlgt missing value count:  0\n",
      "Column:  education missing value count:  0\n",
      "Column:  education-num missing value count:  0\n",
      "Column:  marital-status missing value count:  0\n",
      "Column:  occupation missing value count:  1843\n",
      "Column:  relationship missing value count:  0\n",
      "Column:  race missing value count:  0\n",
      "Column:  sex missing value count:  0\n",
      "Column:  capital-gain missing value count:  0\n",
      "Column:  capital-loss missing value count:  0\n",
      "Column:  hours-per-week missing value count:  0\n",
      "Column:  native-country missing value count:  582\n",
      "Column:  salary missing value count:  0\n",
      "Size after dropping missing values:  30139\n"
     ]
    }
   ],
   "source": [
    "print('Raw size: ', len(df_census))\n",
    "df_census.dropna(inplace=True)\n",
    "df_census.drop_duplicates(inplace=True)\n",
    "print('Size after dropping na and duplicates: ', len(df_census))\n",
    "for col in df_census.columns: \n",
    "    print('Column: ', col, 'missing value count: ', len(df_census.loc[df_census[col]=='?',col]))\n",
    "df_census.replace({'?': None}, inplace=True)\n",
    "df_census.dropna(inplace=True)\n",
    "print('Size after dropping missing values: ', len(df_census))"
   ]
  },
  {
   "cell_type": "markdown",
   "metadata": {},
   "source": [
    "Saving cleaned dataset to the 'data' folder"
   ]
  },
  {
   "cell_type": "code",
   "execution_count": 27,
   "metadata": {},
   "outputs": [],
   "source": [
    "\n",
    "df_census.to_csv('/home/usman_j/MLOps_project3/nd0821-c3/starter/data/census_cleaned.csv',index=False)"
   ]
  }
 ],
 "metadata": {
  "interpreter": {
   "hash": "a5c4f23dfbd5da12abe2542f8f7932d4abc26d37fbf537bee95012c70c9d975f"
  },
  "kernelspec": {
   "display_name": "Python 3.8.13 ('udacity_deploy')",
   "language": "python",
   "name": "python3"
  },
  "language_info": {
   "codemirror_mode": {
    "name": "ipython",
    "version": 3
   },
   "file_extension": ".py",
   "mimetype": "text/x-python",
   "name": "python",
   "nbconvert_exporter": "python",
   "pygments_lexer": "ipython3",
   "version": "3.8.13"
  },
  "orig_nbformat": 4
 },
 "nbformat": 4,
 "nbformat_minor": 2
}
